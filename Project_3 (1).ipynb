{
 "cells": [
  {
   "cell_type": "markdown",
   "metadata": {
    "deletable": true,
    "editable": true
   },
   "source": [
    "# Reading and Understanding the Data "
   ]
  },
  {
   "cell_type": "code",
   "execution_count": 1,
   "metadata": {
    "collapsed": false,
    "deletable": true,
    "editable": true
   },
   "outputs": [
    {
     "data": {
      "image/png": "[encoded data removed]",
      "text/plain": [
       "<matplotlib.figure.Figure at 0x7f6d5c78ada0>"
      ]
     },
     "metadata": {},
     "output_type": "display_data"
    }
   ],
   "source": [
    "import numpy as np\n",
    "import pandas as pd\n",
    "from pandas.io.parsers import read_csv\n",
    "import csv\n",
    "import random\n",
    "import os\n",
    "import matplotlib\n",
    "import matplotlib.image as mpimg\n",
    "import matplotlib.pyplot as plt\n",
    "import cv2\n",
    "import math\n",
    "from sklearn.utils import shuffle\n",
    "from sklearn.model_selection import train_test_split\n",
    "\n",
    "img_list = list()\n",
    "\n",
    "data_dir = 'IMG'\n",
    "path = '/CarND-Behavioral-Cloning-P3/'\n",
    "data_csv = '~/CarND-Behavioral-Cloning-P3/driving_log.csv'\n",
    "\n",
    "df = pd.read_csv(data_csv, header=None,\n",
    "                names =['center','left', 'right', 'steering','throttle', 'brake'], index_col = False)\n",
    "#df['direction'] = pd.Series('s', index=df.index)\n",
    "steering = np.array(df.steering, dtype=np.float32)\n",
    "\n",
    "#yes_no2 = os.path.isfile('driving_log.csv')\n",
    "\n",
    "#print(yes_no2)\n",
    "\n",
    "with open('driving_log.csv', 'r') as csvfile:\n",
    "    reader = csv.reader(csvfile)\n",
    "    next(reader)\n",
    "    for row in reader:\n",
    "        center = row[0].strip()\n",
    "        left = row[1].strip()\n",
    "        right = row[2].strip()\n",
    "        steering = np.array(row[3], dtype=np.float32)\n",
    "        throttle = np.array(row[4], dtype=np.float32)\n",
    "        \n",
    "        if steering == 0:\n",
    "            if (np.random.rand() <= .35):\n",
    "                img_list.append([center, left, right, steering, throttle])\n",
    "        else:\n",
    "            img_list.append([center, left, right, steering, throttle])\n",
    "\n",
    "#print(img_list[3])\n",
    "\n",
    "histo = [x[3] for x in img_list]\n",
    "\n",
    "bins = 100\n",
    "plt.hist(histo, bins=bins)\n",
    "plt.show()\n",
    "\n",
    "\n",
    "\n",
    "\n"
   ]
  },
  {
   "cell_type": "code",
   "execution_count": null,
   "metadata": {
    "collapsed": true,
    "deletable": true,
    "editable": true
   },
   "outputs": [],
   "source": []
  },
  {
   "cell_type": "markdown",
   "metadata": {
    "deletable": true,
    "editable": true
   },
   "source": [
    "# Data Processing"
   ]
  },
  {
   "cell_type": "code",
   "execution_count": 2,
   "metadata": {
    "collapsed": false,
    "deletable": true,
    "editable": true
   },
   "outputs": [],
   "source": [
    "def read_img_file(image):\n",
    "    image = cv2.cvtColor(image,cv2.COLOR_BGR2RGB)\n",
    "    #image = image/255.-.5\n",
    "    return image\n",
    "\n",
    "def brightness_image(image):\n",
    "    image_hsv = cv2.cvtColor(image,cv2.COLOR_RGB2HSV)\n",
    "    rnd_bright = 0.25+np.random.uniform()\n",
    "    image_hsv[:,:,2] = image_hsv[:,:,2]*rnd_bright\n",
    "    image_RGB = cv2.cvtColor(image_hsv, cv2.COLOR_HSV2RGB)\n",
    "    return image_RGB\n",
    "\n",
    "def img_size(image): \n",
    "    output_col = 128\n",
    "    output_row = 60\n",
    "    top_offset=.375 \n",
    "    bottom_offset=.125\n",
    "    top = int(top_offset * image.shape[0])\n",
    "    bottom = int(bottom_offset * image.shape[0])\n",
    "    image = cv2.resize(image[top:-bottom, :], (output_col, output_row),interpolation=cv2.INTER_AREA)\n",
    "    return image\n",
    "\n",
    "def flip_image(image, steering):\n",
    "    if random.randint(0, 1):\n",
    "        return cv2.flip(image, 1), -steering\n",
    "    else:\n",
    "        return image, steering\n",
    "    \n",
    "def shift_image(image, steering,shift_range):\n",
    "    rows = image.shape[0]\n",
    "    cols = image.shape[1]\n",
    "    shift_x = shift_range*np.random.uniform()-shift_range/2\n",
    "    steer_shift = steering + shift_x/shift_range*2*.2\n",
    "    shift_y = 10*np.random.uniform()-10/2\n",
    "    shift_dim = np.float32([[1,0,shift_x],[0,1,shift_y]])\n",
    "    shift_img = cv2.warpAffine(image, shift_dim, (cols, rows))\n",
    "    return shift_img, steer_shift \n",
    "\n",
    "def shift_practice(image, shift_range):\n",
    "    rows = image.shape[0]\n",
    "    cols = image.shape[1]\n",
    "    shift_x = shift_range*np.random.uniform()-shift_range/2\n",
    "    shift_y = 10*np.random.uniform()-10/2\n",
    "    shift_dim = np.float32([[1,0,shift_x],[0,1,shift_y]])\n",
    "    shift_img = cv2.warpAffine(image, shift_dim, (cols, rows))\n",
    "    return shift_img \n",
    "    \n",
    "def flip_practice_image(image):\n",
    "    if random.randint(0, 1):\n",
    "        return cv2.flip(image, 1)\n",
    "    else:\n",
    "        return image"
   ]
  },
  {
   "cell_type": "code",
   "execution_count": null,
   "metadata": {
    "collapsed": false,
    "deletable": true,
    "editable": true
   },
   "outputs": [],
   "source": [
    "ind = 0\n",
    "f_name_c = df['center'][ind][4:] \n",
    "f_name_l = df['left'][ind][5:]\n",
    "f_name_r = df['right'][ind][5:]\n",
    "\n",
    "#img_l = cv2.imread(os.path.join(data_dir,f_name_c))\n",
    "#img_c = cv2.imread('IMG/center_2016_12_01_13_30_48_287.jpg')\n",
    "#plt.figure(figsize=(16,8))\n",
    "#plt.imshow(img_c)\n",
    "#plt.show()\n",
    "#yes_no1 = os.path.isfile('IMG/center_2016_12_01_13_30_48_287.jpg')\n",
    "#yes_no2 = os.path.isfile('driving_log.csv')\n",
    "#yes_no3 = os.path.isfile(os.path.join('IMG',f_name_c))\n",
    "#print (yes_no1, yes_no2, yes_no3)\n",
    "\n",
    "img_c = read_img_file(cv2.imread(os.path.join(data_dir, f_name_c)))\n",
    "img_l = read_img_file(cv2.imread(os.path.join(data_dir, f_name_l)))\n",
    "img_r = read_img_file(cv2.imread(os.path.join(data_dir, f_name_r)))\n",
    "img_c = shift_practice(img_c,150)\n",
    "img_c = brightness_image(img_c)\n",
    "img_c = np.array(img_c)\n",
    "img_c = img_size(img_c)\n",
    "img_c = flip_practice_image(img_c)\n",
    "\n",
    "plt.figure()\n",
    "plt.subplot(1,3,1)\n",
    "plt.imshow(img_l)\n",
    "plt.axis('off')\n",
    "plt.subplot(1,3,2)\n",
    "plt.imshow(img_c)\n",
    "plt.axis('off')\n",
    "#plt.title('Steering Value: '+str(np.round(steering[ind])))\n",
    "plt.subplot(1,3,3)\n",
    "plt.imshow(img_r)\n",
    "plt.axis('off')\n",
    "plt.show()\n",
    "\n",
    "#print (img_c.shape[0],img_c.shape[1])\n",
    "print(f_name_c)"
   ]
  },
  {
   "cell_type": "code",
   "execution_count": 3,
   "metadata": {
    "collapsed": false,
    "deletable": true,
    "editable": true
   },
   "outputs": [
    {
     "name": "stdout",
     "output_type": "stream",
     "text": [
      "Train set = 3642\n",
      "Validation set = 1561\n"
     ]
    }
   ],
   "source": [
    "from sklearn.utils import shuffle\n",
    "from sklearn.model_selection import train_test_split\n",
    "\n",
    "#Shuffle img_list\n",
    "img_list = shuffle(img_list)\n",
    "\n",
    "#Split test img set\n",
    "train_set, valid_set = train_test_split(img_list, test_size=0.3, random_state=0)\n",
    "\n",
    "print(\"Train set =\", len(train_set))\n",
    "print(\"Validation set =\", len(valid_set))\n",
    "#print(train_set)"
   ]
  },
  {
   "cell_type": "markdown",
   "metadata": {
    "deletable": true,
    "editable": true
   },
   "source": [
    "Insert description of preprocessing"
   ]
  },
  {
   "cell_type": "markdown",
   "metadata": {
    "deletable": true,
    "editable": true
   },
   "source": [
    "# Generator"
   ]
  },
  {
   "cell_type": "code",
   "execution_count": 4,
   "metadata": {
    "collapsed": false
   },
   "outputs": [],
   "source": [
    "def load_data(input_data, indices):\n",
    "    steer_aug = 0.1\n",
    "    X = list()\n",
    "    y = list()\n",
    "    \n",
    "    for i in indices:\n",
    "        rnd = np.random.randint(0, 3)\n",
    "        name = input_data[i][rnd][4:]\n",
    "        image = cv2.imread(os.path.join(data_dir,name))\n",
    "        y_steer = input_data[i][3]\n",
    "        \n",
    "        if rnd ==1:\n",
    "            y_steer += steer_aug\n",
    "        elif rnd ==2:\n",
    "            y_steer -= steer_aug\n",
    "            \n",
    "        X.append(image)\n",
    "        y.append(y_steer)\n",
    "        \n",
    "    return X, y\n",
    "\n",
    "#X,y = load_data(train_set, int(50))\n",
    "#plt.imshow(X[0])\n",
    "#plt.show()"
   ]
  },
  {
   "cell_type": "code",
   "execution_count": 5,
   "metadata": {
    "collapsed": false,
    "deletable": true,
    "editable": true
   },
   "outputs": [],
   "source": [
    "def generator(samples, batch):\n",
    "        X_batch = []\n",
    "        y_batch = []\n",
    "        \n",
    "        indicies = np.random.randint(0, len(samples), batch)\n",
    "        \n",
    "        X, y = load_data(samples, indicies)\n",
    "        \n",
    "        for i in range(batch):\n",
    "            image = X[i]\n",
    "            y_steer = y[i]\n",
    "            #image = cv2.imread(os.path.join(data_dir,path))\n",
    "            image = read_img_file(image)\n",
    "            image,y_steer = shift_image(image,y_steer,150)\n",
    "            image = brightness_image(image)\n",
    "            #image = np.array(image)\n",
    "            image,y_steer = flip_image(image, y_steer)\n",
    "            image = img_size(image)\n",
    "\n",
    "            X_batch.append(image)\n",
    "            y_batch.append(y_steer)\n",
    "            \n",
    "        yield np.array(X_batch), np.array(y_batch)   "
   ]
  },
  {
   "cell_type": "code",
   "execution_count": 6,
   "metadata": {
    "collapsed": false,
    "deletable": true,
    "editable": true
   },
   "outputs": [
    {
     "name": "stderr",
     "output_type": "stream",
     "text": [
      "Using TensorFlow backend.\n"
     ]
    },
    {
     "name": "stdout",
     "output_type": "stream",
     "text": [
      "____________________________________________________________________________________________________\n",
      "Layer (type)                     Output Shape          Param #     Connected to                     \n",
      "====================================================================================================\n",
      "lambda_1 (Lambda)                (None, 60, 128, 3)    0           lambda_input_1[0][0]             \n",
      "____________________________________________________________________________________________________\n",
      "convolution2d_1 (Convolution2D)  (None, 60, 128, 24)   1824        lambda_1[0][0]                   \n",
      "____________________________________________________________________________________________________\n",
      "maxpooling2d_1 (MaxPooling2D)    (None, 30, 64, 24)    0           convolution2d_1[0][0]            \n",
      "____________________________________________________________________________________________________\n",
      "convolution2d_2 (Convolution2D)  (None, 30, 64, 36)    21636       maxpooling2d_1[0][0]             \n",
      "____________________________________________________________________________________________________\n",
      "maxpooling2d_2 (MaxPooling2D)    (None, 15, 32, 36)    0           convolution2d_2[0][0]            \n",
      "____________________________________________________________________________________________________\n",
      "convolution2d_3 (Convolution2D)  (None, 15, 32, 48)    43248       maxpooling2d_2[0][0]             \n",
      "____________________________________________________________________________________________________\n",
      "maxpooling2d_3 (MaxPooling2D)    (None, 7, 16, 48)     0           convolution2d_3[0][0]            \n",
      "____________________________________________________________________________________________________\n",
      "convolution2d_4 (Convolution2D)  (None, 7, 16, 64)     27712       maxpooling2d_3[0][0]             \n",
      "____________________________________________________________________________________________________\n",
      "convolution2d_5 (Convolution2D)  (None, 7, 16, 64)     36928       convolution2d_4[0][0]            \n",
      "____________________________________________________________________________________________________\n",
      "flatten_1 (Flatten)              (None, 7168)          0           convolution2d_5[0][0]            \n",
      "____________________________________________________________________________________________________\n",
      "dense_1 (Dense)                  (None, 500)           3584500     flatten_1[0][0]                  \n",
      "____________________________________________________________________________________________________\n",
      "dropout_1 (Dropout)              (None, 500)           0           dense_1[0][0]                    \n",
      "____________________________________________________________________________________________________\n",
      "dense_2 (Dense)                  (None, 200)           100200      dropout_1[0][0]                  \n",
      "____________________________________________________________________________________________________\n",
      "dropout_2 (Dropout)              (None, 200)           0           dense_2[0][0]                    \n",
      "____________________________________________________________________________________________________\n",
      "dense_3 (Dense)                  (None, 10)            2010        dropout_2[0][0]                  \n",
      "____________________________________________________________________________________________________\n",
      "dense_4 (Dense)                  (None, 1)             11          dense_3[0][0]                    \n",
      "====================================================================================================\n",
      "Total params: 3,818,069\n",
      "Trainable params: 3,818,069\n",
      "Non-trainable params: 0\n",
      "____________________________________________________________________________________________________\n",
      "None\n"
     ]
    }
   ],
   "source": [
    "import tensorflow as tf\n",
    "from keras import models, optimizers, backend\n",
    "from keras.layers import Dense, Convolution2D, MaxPooling2D, Activation, Dropout, Flatten, Lambda\n",
    "from keras.optimizers import Adam\n",
    "\n",
    "img_row = 60\n",
    "img_col = 128\n",
    "img_ch = 3\n",
    "\n",
    "\n",
    "model = models.Sequential()\n",
    "model.add(Lambda(lambda x: x/127.5 - .5, input_shape=(img_row, img_col, img_ch),output_shape=(img_row, img_col, img_ch)))\n",
    "model.add(Convolution2D(24, 5, 5, border_mode='same', input_shape=(img_row, img_col, img_ch), activation='relu'))\n",
    "model.add(MaxPooling2D((2,2), strides=(2,2)))\n",
    "model.add(Convolution2D(36, 5, 5, border_mode='same', activation='relu'))\n",
    "model.add(MaxPooling2D((2,2), strides=(2,2)))\n",
    "model.add(Convolution2D(48, 5, 5, border_mode='same', activation='relu'))\n",
    "model.add(MaxPooling2D((2,2), strides=(2,2)))\n",
    "model.add(Convolution2D(64, 3, 3, border_mode='same', activation='relu'))\n",
    "model.add(Convolution2D(64, 3, 3, border_mode='same', activation='relu'))\n",
    "model.add(Flatten())\n",
    "model.add(Dense(500, activation='relu'))\n",
    "model.add(Dropout(.5))\n",
    "model.add(Dense(200, activation='relu'))\n",
    "model.add(Dropout(.2))\n",
    "model.add(Dense(10, activation='relu'))\n",
    "model.add(Dense(1))\n",
    "\n",
    "adam = Adam(lr=1e-04)\n",
    "model.compile(optimizer=adam, loss='mse')\n",
    "\n",
    "          \n",
    "print(model.summary())"
   ]
  },
  {
   "cell_type": "markdown",
   "metadata": {
    "deletable": true,
    "editable": true
   },
   "source": [
    "\n",
    "Using the ADAM optimizer with a learning rate of 1e-4\n",
    "Because this is a continous regression problem we are using mean squared error and the loss function"
   ]
  },
  {
   "cell_type": "code",
   "execution_count": 7,
   "metadata": {
    "collapsed": true,
    "deletable": true,
    "editable": true
   },
   "outputs": [],
   "source": [
    "from pathlib import Path\n",
    "import json\n",
    "\n",
    "def save_model(model_json, h5):\n",
    "    json_string = model.to_json()\n",
    "    with open(model_json, 'w' ) as f:\n",
    "        json.dump(json_string, f)\n",
    "    model.save(h5)\n",
    "               \n",
    "    print('Model Saved')"
   ]
  },
  {
   "cell_type": "code",
   "execution_count": 8,
   "metadata": {
    "collapsed": false,
    "deletable": true,
    "editable": true
   },
   "outputs": [
    {
     "name": "stdout",
     "output_type": "stream",
     "text": [
      "Epoch 1/10\n"
     ]
    },
    {
     "name": "stderr",
     "output_type": "stream",
     "text": [
      "Exception in thread Thread-4:\n",
      "Traceback (most recent call last):\n",
      "  File \"/home/carnd/anaconda3/envs/carnd-term1/lib/python3.5/threading.py\", line 914, in _bootstrap_inner\n",
      "    self.run()\n",
      "  File \"/home/carnd/anaconda3/envs/carnd-term1/lib/python3.5/threading.py\", line 862, in run\n",
      "    self._target(*self._args, **self._kwargs)\n",
      "  File \"/home/carnd/anaconda3/envs/carnd-term1/lib/python3.5/site-packages/keras/engine/training.py\", line 429, in data_generator_task\n",
      "    generator_output = next(self._generator)\n",
      "StopIteration\n",
      "\n"
     ]
    },
    {
     "ename": "ValueError",
     "evalue": "output of generator should be a tuple (x, y, sample_weight) or (x, y). Found: None",
     "output_type": "error",
     "traceback": [
      "\u001b[0;31m---------------------------------------------------------------------------\u001b[0m",
      "\u001b[0;31mValueError\u001b[0m                                Traceback (most recent call last)",
      "\u001b[0;32m<ipython-input-8-10c7e7fd5c1b>\u001b[0m in \u001b[0;36m<module>\u001b[0;34m()\u001b[0m\n\u001b[1;32m     22\u001b[0m                               \u001b[0mnb_epoch\u001b[0m\u001b[0;34m=\u001b[0m\u001b[0mn_epoch\u001b[0m\u001b[0;34m,\u001b[0m\u001b[0;34m\u001b[0m\u001b[0m\n\u001b[1;32m     23\u001b[0m                               \u001b[0mvalidation_data\u001b[0m\u001b[0;34m=\u001b[0m\u001b[0mgenerator\u001b[0m\u001b[0;34m(\u001b[0m\u001b[0mvalid_set\u001b[0m\u001b[0;34m,\u001b[0m \u001b[0mbatch\u001b[0m\u001b[0;34m)\u001b[0m\u001b[0;34m,\u001b[0m\u001b[0;34m\u001b[0m\u001b[0m\n\u001b[0;32m---> 24\u001b[0;31m                               nb_val_samples=sample_epoch_valid)\n\u001b[0m\u001b[1;32m     25\u001b[0m \u001b[0;34m\u001b[0m\u001b[0m\n\u001b[1;32m     26\u001b[0m     \u001b[0mmodel_json\u001b[0m \u001b[0;34m=\u001b[0m \u001b[0;34m'model_'\u001b[0m \u001b[0;34m+\u001b[0m \u001b[0mstr\u001b[0m\u001b[0;34m(\u001b[0m\u001b[0mi\u001b[0m\u001b[0;34m)\u001b[0m \u001b[0;34m+\u001b[0m \u001b[0;34m'.json'\u001b[0m\u001b[0;34m\u001b[0m\u001b[0m\n",
      "\u001b[0;32m/home/carnd/anaconda3/envs/carnd-term1/lib/python3.5/site-packages/keras/models.py\u001b[0m in \u001b[0;36mfit_generator\u001b[0;34m(self, generator, samples_per_epoch, nb_epoch, verbose, callbacks, validation_data, nb_val_samples, class_weight, max_q_size, nb_worker, pickle_safe, initial_epoch, **kwargs)\u001b[0m\n\u001b[1;32m    933\u001b[0m                                         \u001b[0mnb_worker\u001b[0m\u001b[0;34m=\u001b[0m\u001b[0mnb_worker\u001b[0m\u001b[0;34m,\u001b[0m\u001b[0;34m\u001b[0m\u001b[0m\n\u001b[1;32m    934\u001b[0m                                         \u001b[0mpickle_safe\u001b[0m\u001b[0;34m=\u001b[0m\u001b[0mpickle_safe\u001b[0m\u001b[0;34m,\u001b[0m\u001b[0;34m\u001b[0m\u001b[0m\n\u001b[0;32m--> 935\u001b[0;31m                                         initial_epoch=initial_epoch)\n\u001b[0m\u001b[1;32m    936\u001b[0m \u001b[0;34m\u001b[0m\u001b[0m\n\u001b[1;32m    937\u001b[0m     def evaluate_generator(self, generator, val_samples,\n",
      "\u001b[0;32m/home/carnd/anaconda3/envs/carnd-term1/lib/python3.5/site-packages/keras/engine/training.py\u001b[0m in \u001b[0;36mfit_generator\u001b[0;34m(self, generator, samples_per_epoch, nb_epoch, verbose, callbacks, validation_data, nb_val_samples, class_weight, max_q_size, nb_worker, pickle_safe, initial_epoch)\u001b[0m\n\u001b[1;32m   1526\u001b[0m                                          \u001b[0;34m'(x, y, sample_weight) '\u001b[0m\u001b[0;34m\u001b[0m\u001b[0m\n\u001b[1;32m   1527\u001b[0m                                          \u001b[0;34m'or (x, y). Found: '\u001b[0m \u001b[0;34m+\u001b[0m\u001b[0;34m\u001b[0m\u001b[0m\n\u001b[0;32m-> 1528\u001b[0;31m                                          str(generator_output))\n\u001b[0m\u001b[1;32m   1529\u001b[0m                     \u001b[0;32mif\u001b[0m \u001b[0mlen\u001b[0m\u001b[0;34m(\u001b[0m\u001b[0mgenerator_output\u001b[0m\u001b[0;34m)\u001b[0m \u001b[0;34m==\u001b[0m \u001b[0;36m2\u001b[0m\u001b[0;34m:\u001b[0m\u001b[0;34m\u001b[0m\u001b[0m\n\u001b[1;32m   1530\u001b[0m                         \u001b[0mx\u001b[0m\u001b[0;34m,\u001b[0m \u001b[0my\u001b[0m \u001b[0;34m=\u001b[0m \u001b[0mgenerator_output\u001b[0m\u001b[0;34m\u001b[0m\u001b[0m\n",
      "\u001b[0;31mValueError\u001b[0m: output of generator should be a tuple (x, y, sample_weight) or (x, y). Found: None"
     ]
    }
   ],
   "source": [
    "#validation_gen = gen_valid(df)\n",
    "#validation_size = len(df)\n",
    "sm_limit = 1 \n",
    "batch = 50\n",
    "sample_epoch_train= 20000\n",
    "sample_epoch_valid= 2000\n",
    "n_epoch = 10\n",
    "\n",
    "i_best = 0 \n",
    "val_best = 1000\n",
    "\n",
    "for i in range(10): \n",
    "    fit = model.fit_generator(generator(train_set, batch), verbose =1,\n",
    "                              samples_per_epoch=sample_epoch_train,\n",
    "                              nb_epoch=n_epoch, \n",
    "                              validation_data=generator(valid_set, batch),\n",
    "                              nb_val_samples=sample_epoch_valid)\n",
    "    \n",
    "    model_json = 'model_' + str(i) + '.json'\n",
    "    h5 = 'model_' + str(i) + '.h5'\n",
    "    save_model(model_json,h5)\n",
    "    \n",
    "    val_loss = history.history['val_loss'][0]\n",
    "    if val_loss < val_best:\n",
    "        i_best = i\n",
    "        val_best = val_loss\n",
    "        model_json = 'model_best.json'\n",
    "        weights = 'model_best.h5'\n",
    "        save_model(model_json,weights)\n",
    "        \n",
    "    sm_limit = 1/(i+1)\n",
    "    \n",
    "#print('Best model found at iteration # ' + str(i_best))\n",
    "#print('Best Validation score : ' + str(np.round(val_best,4)))"
   ]
  },
  {
   "cell_type": "code",
   "execution_count": null,
   "metadata": {
    "collapsed": true,
    "deletable": true,
    "editable": true
   },
   "outputs": [],
   "source": []
  }
 ],
 "metadata": {
  "kernelspec": {
   "display_name": "Python 3",
   "language": "python",
   "name": "python3"
  },
  "language_info": {
   "codemirror_mode": {
    "name": "ipython",
    "version": 3
   },
   "file_extension": ".py",
   "mimetype": "text/x-python",
   "name": "python",
   "nbconvert_exporter": "python",
   "pygments_lexer": "ipython3",
   "version": "3.5.2"
  },
  "widgets": {
   "state": {},
   "version": "1.1.2"
  }
 },
 "nbformat": 4,
 "nbformat_minor": 2
}
